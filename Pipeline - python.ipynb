{
 "cells": [
  {
   "cell_type": "code",
   "execution_count": 2,
   "metadata": {},
   "outputs": [
    {
     "name": "stdout",
     "output_type": "stream",
     "text": [
      "Fitting 3 folds for each of 432 candidates, totalling 1296 fits\n"
     ]
    },
    {
     "name": "stderr",
     "output_type": "stream",
     "text": [
      "[Parallel(n_jobs=-1)]: Using backend LokyBackend with 4 concurrent workers.\n",
      "[Parallel(n_jobs=-1)]: Done  10 tasks      | elapsed:    4.6s\n",
      "[Parallel(n_jobs=-1)]: Done  64 tasks      | elapsed:   20.0s\n",
      "[Parallel(n_jobs=-1)]: Done 154 tasks      | elapsed:   58.7s\n",
      "[Parallel(n_jobs=-1)]: Done 280 tasks      | elapsed:  1.8min\n",
      "[Parallel(n_jobs=-1)]: Done 442 tasks      | elapsed:  2.9min\n",
      "[Parallel(n_jobs=-1)]: Done 640 tasks      | elapsed:  4.5min\n",
      "[Parallel(n_jobs=-1)]: Done 874 tasks      | elapsed:  6.1min\n",
      "[Parallel(n_jobs=-1)]: Done 1144 tasks      | elapsed:  8.0min\n",
      "[Parallel(n_jobs=-1)]: Done 1296 out of 1296 | elapsed:  9.0min finished\n"
     ]
    },
    {
     "name": "stdout",
     "output_type": "stream",
     "text": [
      "score = 0.73\n",
      "{'stackingcvregressor__randomforestregressor__bootstrap': False, 'stackingcvregressor__randomforestregressor__max_depth': 5, 'stackingcvregressor__randomforestregressor__max_features': 'auto', 'stackingcvregressor__randomforestregressor__min_samples_leaf': 3, 'stackingcvregressor__randomforestregressor__min_samples_split': 3, 'stackingcvregressor__randomforestregressor__n_estimators': 20}\n"
     ]
    }
   ],
   "source": [
    "import numpy as np\n",
    "import pandas as pd\n",
    "import seaborn as sns\n",
    "import itertools\n",
    "import matplotlib.pyplot as plt\n",
    "\n",
    "from sklearn import model_selection\n",
    "from sklearn.model_selection import train_test_split, GridSearchCV\n",
    "from sklearn.preprocessing import StandardScaler\n",
    "from sklearn.pipeline import Pipeline\n",
    "from sklearn import metrics\n",
    "\n",
    "# Classifiers\n",
    "from sklearn.svm import SVR\n",
    "# from sklearn.neural_network import MLPClassifier\n",
    "from sklearn.ensemble import RandomForestRegressor\n",
    "# from mlxtend.Regressor import StackingCVRegressor #\n",
    "from mlxtend.regressor import StackingCVRegressor\n",
    "import xgboost as xgb\n",
    "\n",
    "pd.set_option('display.max_columns',None)\n",
    "pd.set_option('display.max_rows',None)\n",
    "\n",
    "# Used to ignore warnings generated from StackingCVClassifier\n",
    "import warnings\n",
    "warnings.simplefilter('ignore')\n",
    "\n",
    "from sklearn.model_selection import train_test_split\n",
    "\n",
    "from sklearn.linear_model import LinearRegression\n",
    "\n",
    "rf = RandomForestRegressor(random_state = 1000, n_jobs = -1)\n",
    "lr = LinearRegression(n_jobs = -1)\n",
    "df = pd.read_csv('datasets_52721_99691_student-mat.csv')\n",
    "\n",
    "X = df.drop('G3', axis=1)\n",
    "y = df[['G3']]\n",
    "X_train, X_test, y_train, y_test = train_test_split(X, y, test_size=0.33, random_state=42)\n",
    "X_train.head()\n",
    "\n",
    "n_estimators = [10,20,50]\n",
    "# Number of features to consider at every split\n",
    "max_features = ['auto', 'sqrt']\n",
    "# Maximum number of levels in tree\n",
    "max_depth = [5,15,20]\n",
    "max_depth.append(None)\n",
    "# Minimum number of samples required to split a node\n",
    "min_samples_split = [1,3, 5]\n",
    "# Minimum number of samples required at each leaf node\n",
    "min_samples_leaf = [1, 3, 5]\n",
    "# Method of selecting samples for training each tree\n",
    "bootstrap = [True, False]\n",
    "\n",
    "# Create the random grid\n",
    "params = {\n",
    "               'stackingcvregressor__randomforestregressor__n_estimators': n_estimators,  #randomforestregressor__bootstrap\n",
    "               'stackingcvregressor__randomforestregressor__max_features': max_features,\n",
    "               'stackingcvregressor__randomforestregressor__max_depth': max_depth,\n",
    "               'stackingcvregressor__randomforestregressor__min_samples_split': min_samples_split,\n",
    "               'stackingcvregressor__randomforestregressor__min_samples_leaf': min_samples_leaf,\n",
    "               'stackingcvregressor__randomforestregressor__bootstrap': bootstrap,\n",
    "#               \"xgbclassifier__n_estimators\": [10, 50, 100, 500],\n",
    "#                 \"xgbclassifier__learning_rate\": [0.1, 0.5, 1],\n",
    "         }\n",
    "\n",
    "\n",
    "from sklearn.compose import ColumnTransformer, make_column_transformer\n",
    "from sklearn.pipeline import Pipeline\n",
    "from sklearn.impute import SimpleImputer\n",
    "from sklearn.preprocessing import StandardScaler, OneHotEncoder\n",
    "from sklearn.compose import make_column_transformer\n",
    "from sklearn.pipeline import make_pipeline\n",
    "\n",
    "num_features = X_train.select_dtypes(include=['int64', 'float64']).columns\n",
    "cat_features = X_train.select_dtypes(include=['object']).columns\n",
    "\n",
    "preprocess = make_column_transformer(\n",
    "    (StandardScaler(), num_features),(OneHotEncoder(handle_unknown='ignore'),cat_features))\n",
    "\n",
    "stacking_model = StackingCVRegressor(regressors=(rf,lr), \n",
    "                            meta_regressor=lr,\n",
    "                            random_state=42)\n",
    "\n",
    "pipe_stack = Pipeline([('preprocessor', preprocess),('stackingcvregressor',stacking_model)])\n",
    "\n",
    "grid = GridSearchCV(estimator=pipe_stack, \n",
    "                    param_grid=params, \n",
    "                    cv=3,\n",
    "                    refit=True,n_jobs = -1, verbose = 5 )\n",
    "grid.fit(X_train, y_train)\n",
    "print (\"score = %3.2f\" %(grid.score(X_test,y_test)))\n",
    "print (grid.best_params_)"
   ]
  }
 ],
 "metadata": {
  "kernelspec": {
   "display_name": "Python 3",
   "language": "python",
   "name": "python3"
  },
  "language_info": {
   "codemirror_mode": {
    "name": "ipython",
    "version": 3
   },
   "file_extension": ".py",
   "mimetype": "text/x-python",
   "name": "python",
   "nbconvert_exporter": "python",
   "pygments_lexer": "ipython3",
   "version": "3.7.7"
  }
 },
 "nbformat": 4,
 "nbformat_minor": 4
}
